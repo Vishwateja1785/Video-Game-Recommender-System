{
 "cells": [
  {
   "cell_type": "markdown",
   "id": "22fd47b6-04a3-41f2-aa5a-31eab1182a93",
   "metadata": {
    "tags": []
   },
   "source": [
    "## Popularity-based Recommentation System"
   ]
  },
  {
   "cell_type": "code",
   "execution_count": 1,
   "id": "bd0ce4a8-ae25-4cf9-b465-01ccbc2bb726",
   "metadata": {
    "tags": []
   },
   "outputs": [],
   "source": [
    "#import the reqired libraries\n",
    "import json\n",
    "import gzip\n",
    "\n",
    "import math\n",
    "import numpy as np\n",
    "import pandas as pd\n",
    "%matplotlib inline\n",
    "import matplotlib.pyplot as plt\n",
    "import seaborn as sns\n",
    "from sklearn.metrics import mean_squared_error\n",
    "from sklearn.model_selection import train_test_split\n",
    "import warnings; warnings.simplefilter('ignore')"
   ]
  },
  {
   "cell_type": "markdown",
   "id": "96daa89a-9946-4147-8dea-5fd256259489",
   "metadata": {},
   "source": [
    "We have two data files **Video_Games_5.json.gz** and **meta_Video_Games.json.gz**. <br>\n",
    "First one contains all the ratings. Each row corresponds to an instance of rating by a user. <br>\n",
    "The latter is a json that consists of information about the product that is rated. <br>"
   ]
  },
  {
   "cell_type": "code",
   "execution_count": 2,
   "id": "a338f7ad-522d-4a5a-83a6-9fdc44264e06",
   "metadata": {
    "tags": []
   },
   "outputs": [],
   "source": [
    "# Load the video_games.json file into a dataframe\n",
    "def parse(path):\n",
    "  g = gzip.open(path, 'rb')\n",
    "  for l in g:\n",
    "    yield json.loads(l)\n",
    "\n",
    "def getDF(path):\n",
    "  i = 0\n",
    "  df = {}\n",
    "  for d in parse(path):\n",
    "    df[i] = d\n",
    "    i += 1\n",
    "  return pd.DataFrame.from_dict(df, orient='index')\n",
    "\n",
    "video_games_df = getDF('Video_Games_5.json.gz')"
   ]
  },
  {
   "cell_type": "code",
   "execution_count": 3,
   "id": "936f442f-ce9f-4ad5-b80d-f21a975dc4f0",
   "metadata": {
    "tags": []
   },
   "outputs": [
    {
     "data": {
      "text/html": [
       "<div>\n",
       "<style scoped>\n",
       "    .dataframe tbody tr th:only-of-type {\n",
       "        vertical-align: middle;\n",
       "    }\n",
       "\n",
       "    .dataframe tbody tr th {\n",
       "        vertical-align: top;\n",
       "    }\n",
       "\n",
       "    .dataframe thead th {\n",
       "        text-align: right;\n",
       "    }\n",
       "</style>\n",
       "<table border=\"1\" class=\"dataframe\">\n",
       "  <thead>\n",
       "    <tr style=\"text-align: right;\">\n",
       "      <th></th>\n",
       "      <th>overall</th>\n",
       "      <th>verified</th>\n",
       "      <th>reviewTime</th>\n",
       "      <th>reviewerID</th>\n",
       "      <th>asin</th>\n",
       "      <th>reviewerName</th>\n",
       "      <th>reviewText</th>\n",
       "      <th>summary</th>\n",
       "      <th>unixReviewTime</th>\n",
       "      <th>vote</th>\n",
       "      <th>style</th>\n",
       "      <th>image</th>\n",
       "    </tr>\n",
       "  </thead>\n",
       "  <tbody>\n",
       "    <tr>\n",
       "      <th>0</th>\n",
       "      <td>5.0</td>\n",
       "      <td>True</td>\n",
       "      <td>10 17, 2015</td>\n",
       "      <td>A1HP7NVNPFMA4N</td>\n",
       "      <td>0700026657</td>\n",
       "      <td>Ambrosia075</td>\n",
       "      <td>This game is a bit hard to get the hang of, bu...</td>\n",
       "      <td>but when you do it's great.</td>\n",
       "      <td>1445040000</td>\n",
       "      <td>NaN</td>\n",
       "      <td>NaN</td>\n",
       "      <td>NaN</td>\n",
       "    </tr>\n",
       "    <tr>\n",
       "      <th>1</th>\n",
       "      <td>4.0</td>\n",
       "      <td>False</td>\n",
       "      <td>07 27, 2015</td>\n",
       "      <td>A1JGAP0185YJI6</td>\n",
       "      <td>0700026657</td>\n",
       "      <td>travis</td>\n",
       "      <td>I played it a while but it was alright. The st...</td>\n",
       "      <td>But in spite of that it was fun, I liked it</td>\n",
       "      <td>1437955200</td>\n",
       "      <td>NaN</td>\n",
       "      <td>NaN</td>\n",
       "      <td>NaN</td>\n",
       "    </tr>\n",
       "    <tr>\n",
       "      <th>2</th>\n",
       "      <td>3.0</td>\n",
       "      <td>True</td>\n",
       "      <td>02 23, 2015</td>\n",
       "      <td>A1YJWEXHQBWK2B</td>\n",
       "      <td>0700026657</td>\n",
       "      <td>Vincent G. Mezera</td>\n",
       "      <td>ok game.</td>\n",
       "      <td>Three Stars</td>\n",
       "      <td>1424649600</td>\n",
       "      <td>NaN</td>\n",
       "      <td>NaN</td>\n",
       "      <td>NaN</td>\n",
       "    </tr>\n",
       "    <tr>\n",
       "      <th>3</th>\n",
       "      <td>2.0</td>\n",
       "      <td>True</td>\n",
       "      <td>02 20, 2015</td>\n",
       "      <td>A2204E1TH211HT</td>\n",
       "      <td>0700026657</td>\n",
       "      <td>Grandma KR</td>\n",
       "      <td>found the game a bit too complicated, not what...</td>\n",
       "      <td>Two Stars</td>\n",
       "      <td>1424390400</td>\n",
       "      <td>NaN</td>\n",
       "      <td>NaN</td>\n",
       "      <td>NaN</td>\n",
       "    </tr>\n",
       "    <tr>\n",
       "      <th>4</th>\n",
       "      <td>5.0</td>\n",
       "      <td>True</td>\n",
       "      <td>12 25, 2014</td>\n",
       "      <td>A2RF5B5H74JLPE</td>\n",
       "      <td>0700026657</td>\n",
       "      <td>jon</td>\n",
       "      <td>great game, I love it and have played it since...</td>\n",
       "      <td>love this game</td>\n",
       "      <td>1419465600</td>\n",
       "      <td>NaN</td>\n",
       "      <td>NaN</td>\n",
       "      <td>NaN</td>\n",
       "    </tr>\n",
       "  </tbody>\n",
       "</table>\n",
       "</div>"
      ],
      "text/plain": [
       "   overall  verified   reviewTime      reviewerID        asin  \\\n",
       "0      5.0      True  10 17, 2015  A1HP7NVNPFMA4N  0700026657   \n",
       "1      4.0     False  07 27, 2015  A1JGAP0185YJI6  0700026657   \n",
       "2      3.0      True  02 23, 2015  A1YJWEXHQBWK2B  0700026657   \n",
       "3      2.0      True  02 20, 2015  A2204E1TH211HT  0700026657   \n",
       "4      5.0      True  12 25, 2014  A2RF5B5H74JLPE  0700026657   \n",
       "\n",
       "        reviewerName                                         reviewText  \\\n",
       "0        Ambrosia075  This game is a bit hard to get the hang of, bu...   \n",
       "1             travis  I played it a while but it was alright. The st...   \n",
       "2  Vincent G. Mezera                                           ok game.   \n",
       "3         Grandma KR  found the game a bit too complicated, not what...   \n",
       "4                jon  great game, I love it and have played it since...   \n",
       "\n",
       "                                       summary  unixReviewTime vote style  \\\n",
       "0                  but when you do it's great.      1445040000  NaN   NaN   \n",
       "1  But in spite of that it was fun, I liked it      1437955200  NaN   NaN   \n",
       "2                                  Three Stars      1424649600  NaN   NaN   \n",
       "3                                    Two Stars      1424390400  NaN   NaN   \n",
       "4                               love this game      1419465600  NaN   NaN   \n",
       "\n",
       "  image  \n",
       "0   NaN  \n",
       "1   NaN  \n",
       "2   NaN  \n",
       "3   NaN  \n",
       "4   NaN  "
      ]
     },
     "execution_count": 3,
     "metadata": {},
     "output_type": "execute_result"
    }
   ],
   "source": [
    "video_games_df.head()"
   ]
  },
  {
   "cell_type": "code",
   "execution_count": 4,
   "id": "5744f4e5-7003-467e-adb4-9f63024ff481",
   "metadata": {
    "tags": []
   },
   "outputs": [],
   "source": [
    "import ast\n",
    "def parse(path):\n",
    "    g = gzip.open(path, 'rb')\n",
    "    for l in g:\n",
    "        yield ast.literal_eval(l.decode('utf-8'))\n",
    "\n",
    "def getDF(path):\n",
    "    i = 0\n",
    "    df = {}\n",
    "    for d in parse(path):\n",
    "        df[i] = d\n",
    "        i += 1\n",
    "    return pd.DataFrame.from_dict(df, orient='index')\n",
    "\n",
    "metadata_df = getDF('meta_Video_Games.json.gz')"
   ]
  },
  {
   "cell_type": "code",
   "execution_count": 5,
   "id": "29d77b1d-474a-4ea1-a733-6b8520077274",
   "metadata": {
    "tags": []
   },
   "outputs": [
    {
     "data": {
      "text/html": [
       "<div>\n",
       "<style scoped>\n",
       "    .dataframe tbody tr th:only-of-type {\n",
       "        vertical-align: middle;\n",
       "    }\n",
       "\n",
       "    .dataframe tbody tr th {\n",
       "        vertical-align: top;\n",
       "    }\n",
       "\n",
       "    .dataframe thead th {\n",
       "        text-align: right;\n",
       "    }\n",
       "</style>\n",
       "<table border=\"1\" class=\"dataframe\">\n",
       "  <thead>\n",
       "    <tr style=\"text-align: right;\">\n",
       "      <th></th>\n",
       "      <th>asin</th>\n",
       "      <th>description</th>\n",
       "      <th>price</th>\n",
       "      <th>imUrl</th>\n",
       "      <th>related</th>\n",
       "      <th>salesRank</th>\n",
       "      <th>categories</th>\n",
       "      <th>title</th>\n",
       "      <th>brand</th>\n",
       "    </tr>\n",
       "  </thead>\n",
       "  <tbody>\n",
       "    <tr>\n",
       "      <th>0</th>\n",
       "      <td>0078764343</td>\n",
       "      <td>Brand new sealed!</td>\n",
       "      <td>37.98</td>\n",
       "      <td>http://ecx.images-amazon.com/images/I/513h6dPb...</td>\n",
       "      <td>{'also_bought': ['B000TI836G', 'B003Q53VZC', '...</td>\n",
       "      <td>{'Video Games': 28655}</td>\n",
       "      <td>[[Video Games, Xbox 360, Games]]</td>\n",
       "      <td>NaN</td>\n",
       "      <td>NaN</td>\n",
       "    </tr>\n",
       "    <tr>\n",
       "      <th>1</th>\n",
       "      <td>043933702X</td>\n",
       "      <td>In Stock NOW.  Eligible for FREE Super Saving ...</td>\n",
       "      <td>23.50</td>\n",
       "      <td>http://ecx.images-amazon.com/images/I/61KKRndV...</td>\n",
       "      <td>{'also_viewed': ['B000067NP1', '0439573947', '...</td>\n",
       "      <td>{'Video Games': 44080}</td>\n",
       "      <td>[[Video Games, PC, Games]]</td>\n",
       "      <td>NaN</td>\n",
       "      <td>NaN</td>\n",
       "    </tr>\n",
       "    <tr>\n",
       "      <th>2</th>\n",
       "      <td>0439339987</td>\n",
       "      <td>Grandma Groupers kelp seeds are missing and wi...</td>\n",
       "      <td>8.95</td>\n",
       "      <td>http://ecx.images-amazon.com/images/I/416QZg89...</td>\n",
       "      <td>{'also_bought': ['B000314VVU', 'B000PXUOTE', '...</td>\n",
       "      <td>{'Video Games': 49836}</td>\n",
       "      <td>[[Video Games, PC, Games]]</td>\n",
       "      <td>NaN</td>\n",
       "      <td>NaN</td>\n",
       "    </tr>\n",
       "    <tr>\n",
       "      <th>3</th>\n",
       "      <td>0439342260</td>\n",
       "      <td>This software is BRAND NEW. Packaging may diff...</td>\n",
       "      <td>NaN</td>\n",
       "      <td>http://ecx.images-amazon.com/images/I/61Wvu-Uj...</td>\n",
       "      <td>{'also_viewed': ['043934302X']}</td>\n",
       "      <td>{'Video Games': 49156}</td>\n",
       "      <td>[[Video Games, PC, Games]]</td>\n",
       "      <td>NaN</td>\n",
       "      <td>NaN</td>\n",
       "    </tr>\n",
       "    <tr>\n",
       "      <th>4</th>\n",
       "      <td>0439339960</td>\n",
       "      <td>a scholastic clubs fairs cd rom game</td>\n",
       "      <td>NaN</td>\n",
       "      <td>http://ecx.images-amazon.com/images/I/51k3oRCF...</td>\n",
       "      <td>{'also_viewed': ['B00028D7TG']}</td>\n",
       "      <td>{'Video Games': 52262}</td>\n",
       "      <td>[[Video Games, PC, Games]]</td>\n",
       "      <td>NaN</td>\n",
       "      <td>NaN</td>\n",
       "    </tr>\n",
       "  </tbody>\n",
       "</table>\n",
       "</div>"
      ],
      "text/plain": [
       "         asin                                        description  price  \\\n",
       "0  0078764343                                  Brand new sealed!  37.98   \n",
       "1  043933702X  In Stock NOW.  Eligible for FREE Super Saving ...  23.50   \n",
       "2  0439339987  Grandma Groupers kelp seeds are missing and wi...   8.95   \n",
       "3  0439342260  This software is BRAND NEW. Packaging may diff...    NaN   \n",
       "4  0439339960               a scholastic clubs fairs cd rom game    NaN   \n",
       "\n",
       "                                               imUrl  \\\n",
       "0  http://ecx.images-amazon.com/images/I/513h6dPb...   \n",
       "1  http://ecx.images-amazon.com/images/I/61KKRndV...   \n",
       "2  http://ecx.images-amazon.com/images/I/416QZg89...   \n",
       "3  http://ecx.images-amazon.com/images/I/61Wvu-Uj...   \n",
       "4  http://ecx.images-amazon.com/images/I/51k3oRCF...   \n",
       "\n",
       "                                             related               salesRank  \\\n",
       "0  {'also_bought': ['B000TI836G', 'B003Q53VZC', '...  {'Video Games': 28655}   \n",
       "1  {'also_viewed': ['B000067NP1', '0439573947', '...  {'Video Games': 44080}   \n",
       "2  {'also_bought': ['B000314VVU', 'B000PXUOTE', '...  {'Video Games': 49836}   \n",
       "3                    {'also_viewed': ['043934302X']}  {'Video Games': 49156}   \n",
       "4                    {'also_viewed': ['B00028D7TG']}  {'Video Games': 52262}   \n",
       "\n",
       "                         categories title brand  \n",
       "0  [[Video Games, Xbox 360, Games]]   NaN   NaN  \n",
       "1        [[Video Games, PC, Games]]   NaN   NaN  \n",
       "2        [[Video Games, PC, Games]]   NaN   NaN  \n",
       "3        [[Video Games, PC, Games]]   NaN   NaN  \n",
       "4        [[Video Games, PC, Games]]   NaN   NaN  "
      ]
     },
     "execution_count": 5,
     "metadata": {},
     "output_type": "execute_result"
    }
   ],
   "source": [
    "metadata_df.head()"
   ]
  },
  {
   "cell_type": "code",
   "execution_count": 6,
   "id": "dea59d4b-8fcf-4256-9240-526b21dfd57f",
   "metadata": {
    "tags": []
   },
   "outputs": [
    {
     "data": {
      "text/plain": [
       "(359839, 20)"
      ]
     },
     "metadata": {},
     "output_type": "display_data"
    }
   ],
   "source": [
    "# Merging the meta dataset(contains product info) with the video games dataset(contains ratings)\n",
    "df = pd.merge(video_games_df, metadata_df, on='asin', how='inner')\n",
    "display(df.shape)"
   ]
  },
  {
   "cell_type": "code",
   "execution_count": 7,
   "id": "ff2e2fd8-94e4-42d9-9172-b1eae22b5edc",
   "metadata": {
    "tags": []
   },
   "outputs": [
    {
     "data": {
      "text/plain": [
       "Index(['overall', 'verified', 'reviewTime', 'reviewerID', 'asin',\n",
       "       'reviewerName', 'reviewText', 'summary', 'unixReviewTime', 'vote',\n",
       "       'style', 'image', 'description', 'price', 'imUrl', 'related',\n",
       "       'salesRank', 'categories', 'title', 'brand'],\n",
       "      dtype='object')"
      ]
     },
     "execution_count": 7,
     "metadata": {},
     "output_type": "execute_result"
    }
   ],
   "source": [
    "df.columns"
   ]
  },
  {
   "cell_type": "code",
   "execution_count": 37,
   "id": "9e107347-c944-42f4-8fcf-e0cc1833baf1",
   "metadata": {
    "tags": []
   },
   "outputs": [],
   "source": [
    "# Most of these features do not provide any meaningful relevance for a popularity based recommender and hence dropping them..\n",
    "#columns_dropped = ['asin', 'reviewerName', 'reviewText', 'summary', 'image', 'imUrl']\n",
    "#columns_dropped.append('vote') # column refers to the upvotes on a review - ~27k are nulls and the other 80k don't seem to provide much info\n",
    "\n",
    "# dropping all the columns that have description-like data\n",
    "# These text blocks might have some correlation for a different kind of recommender model\n",
    "# But for a popularity-based one, analysis of text seemed a bit too far fetched.\n",
    "#columns_dropped.append('description') # product description\n",
    "#columns_dropped.append('related') # related products bought\n",
    "#columns_dropped.append('categories') # categories the product falls under\n",
    "\n",
    "\n",
    "#df.drop(columns_dropped, axis = 1, inplace = True)\n",
    "#display(df.shape)\n",
    "\n",
    "## I went on to drop most columns after analysing one after another.\n",
    "## I am going to consider a slice of the df for the further part.\n",
    "## Do not run this cell."
   ]
  },
  {
   "cell_type": "code",
   "execution_count": 9,
   "id": "e4ebe6f1-f80b-4d6c-b6f4-c56477169ae5",
   "metadata": {
    "tags": []
   },
   "outputs": [
    {
     "data": {
      "text/html": [
       "<div>\n",
       "<style scoped>\n",
       "    .dataframe tbody tr th:only-of-type {\n",
       "        vertical-align: middle;\n",
       "    }\n",
       "\n",
       "    .dataframe tbody tr th {\n",
       "        vertical-align: top;\n",
       "    }\n",
       "\n",
       "    .dataframe thead th {\n",
       "        text-align: right;\n",
       "    }\n",
       "</style>\n",
       "<table border=\"1\" class=\"dataframe\">\n",
       "  <thead>\n",
       "    <tr style=\"text-align: right;\">\n",
       "      <th></th>\n",
       "      <th>overall</th>\n",
       "      <th>verified</th>\n",
       "      <th>reviewTime</th>\n",
       "      <th>reviewerID</th>\n",
       "      <th>asin</th>\n",
       "      <th>reviewerName</th>\n",
       "      <th>reviewText</th>\n",
       "      <th>summary</th>\n",
       "      <th>unixReviewTime</th>\n",
       "      <th>vote</th>\n",
       "      <th>style</th>\n",
       "      <th>image</th>\n",
       "      <th>description</th>\n",
       "      <th>price</th>\n",
       "      <th>imUrl</th>\n",
       "      <th>related</th>\n",
       "      <th>salesRank</th>\n",
       "      <th>categories</th>\n",
       "      <th>title</th>\n",
       "      <th>brand</th>\n",
       "    </tr>\n",
       "  </thead>\n",
       "  <tbody>\n",
       "    <tr>\n",
       "      <th>0</th>\n",
       "      <td>5.0</td>\n",
       "      <td>True</td>\n",
       "      <td>10 17, 2015</td>\n",
       "      <td>A1HP7NVNPFMA4N</td>\n",
       "      <td>0700026657</td>\n",
       "      <td>Ambrosia075</td>\n",
       "      <td>This game is a bit hard to get the hang of, bu...</td>\n",
       "      <td>but when you do it's great.</td>\n",
       "      <td>1445040000</td>\n",
       "      <td>NaN</td>\n",
       "      <td>NaN</td>\n",
       "      <td>NaN</td>\n",
       "      <td>Anno 2070, the newest version of the award-win...</td>\n",
       "      <td>39.99</td>\n",
       "      <td>http://ecx.images-amazon.com/images/I/51R06L8c...</td>\n",
       "      <td>{'also_bought': ['B005OM6CGU', 'B001AWMCMQ', '...</td>\n",
       "      <td>{'Video Games': 7621}</td>\n",
       "      <td>[[Video Games, PC, Games]]</td>\n",
       "      <td>NaN</td>\n",
       "      <td>NaN</td>\n",
       "    </tr>\n",
       "    <tr>\n",
       "      <th>1</th>\n",
       "      <td>4.0</td>\n",
       "      <td>False</td>\n",
       "      <td>07 27, 2015</td>\n",
       "      <td>A1JGAP0185YJI6</td>\n",
       "      <td>0700026657</td>\n",
       "      <td>travis</td>\n",
       "      <td>I played it a while but it was alright. The st...</td>\n",
       "      <td>But in spite of that it was fun, I liked it</td>\n",
       "      <td>1437955200</td>\n",
       "      <td>NaN</td>\n",
       "      <td>NaN</td>\n",
       "      <td>NaN</td>\n",
       "      <td>Anno 2070, the newest version of the award-win...</td>\n",
       "      <td>39.99</td>\n",
       "      <td>http://ecx.images-amazon.com/images/I/51R06L8c...</td>\n",
       "      <td>{'also_bought': ['B005OM6CGU', 'B001AWMCMQ', '...</td>\n",
       "      <td>{'Video Games': 7621}</td>\n",
       "      <td>[[Video Games, PC, Games]]</td>\n",
       "      <td>NaN</td>\n",
       "      <td>NaN</td>\n",
       "    </tr>\n",
       "    <tr>\n",
       "      <th>2</th>\n",
       "      <td>3.0</td>\n",
       "      <td>True</td>\n",
       "      <td>02 23, 2015</td>\n",
       "      <td>A1YJWEXHQBWK2B</td>\n",
       "      <td>0700026657</td>\n",
       "      <td>Vincent G. Mezera</td>\n",
       "      <td>ok game.</td>\n",
       "      <td>Three Stars</td>\n",
       "      <td>1424649600</td>\n",
       "      <td>NaN</td>\n",
       "      <td>NaN</td>\n",
       "      <td>NaN</td>\n",
       "      <td>Anno 2070, the newest version of the award-win...</td>\n",
       "      <td>39.99</td>\n",
       "      <td>http://ecx.images-amazon.com/images/I/51R06L8c...</td>\n",
       "      <td>{'also_bought': ['B005OM6CGU', 'B001AWMCMQ', '...</td>\n",
       "      <td>{'Video Games': 7621}</td>\n",
       "      <td>[[Video Games, PC, Games]]</td>\n",
       "      <td>NaN</td>\n",
       "      <td>NaN</td>\n",
       "    </tr>\n",
       "    <tr>\n",
       "      <th>3</th>\n",
       "      <td>2.0</td>\n",
       "      <td>True</td>\n",
       "      <td>02 20, 2015</td>\n",
       "      <td>A2204E1TH211HT</td>\n",
       "      <td>0700026657</td>\n",
       "      <td>Grandma KR</td>\n",
       "      <td>found the game a bit too complicated, not what...</td>\n",
       "      <td>Two Stars</td>\n",
       "      <td>1424390400</td>\n",
       "      <td>NaN</td>\n",
       "      <td>NaN</td>\n",
       "      <td>NaN</td>\n",
       "      <td>Anno 2070, the newest version of the award-win...</td>\n",
       "      <td>39.99</td>\n",
       "      <td>http://ecx.images-amazon.com/images/I/51R06L8c...</td>\n",
       "      <td>{'also_bought': ['B005OM6CGU', 'B001AWMCMQ', '...</td>\n",
       "      <td>{'Video Games': 7621}</td>\n",
       "      <td>[[Video Games, PC, Games]]</td>\n",
       "      <td>NaN</td>\n",
       "      <td>NaN</td>\n",
       "    </tr>\n",
       "    <tr>\n",
       "      <th>4</th>\n",
       "      <td>5.0</td>\n",
       "      <td>True</td>\n",
       "      <td>12 25, 2014</td>\n",
       "      <td>A2RF5B5H74JLPE</td>\n",
       "      <td>0700026657</td>\n",
       "      <td>jon</td>\n",
       "      <td>great game, I love it and have played it since...</td>\n",
       "      <td>love this game</td>\n",
       "      <td>1419465600</td>\n",
       "      <td>NaN</td>\n",
       "      <td>NaN</td>\n",
       "      <td>NaN</td>\n",
       "      <td>Anno 2070, the newest version of the award-win...</td>\n",
       "      <td>39.99</td>\n",
       "      <td>http://ecx.images-amazon.com/images/I/51R06L8c...</td>\n",
       "      <td>{'also_bought': ['B005OM6CGU', 'B001AWMCMQ', '...</td>\n",
       "      <td>{'Video Games': 7621}</td>\n",
       "      <td>[[Video Games, PC, Games]]</td>\n",
       "      <td>NaN</td>\n",
       "      <td>NaN</td>\n",
       "    </tr>\n",
       "  </tbody>\n",
       "</table>\n",
       "</div>"
      ],
      "text/plain": [
       "   overall  verified   reviewTime      reviewerID        asin  \\\n",
       "0      5.0      True  10 17, 2015  A1HP7NVNPFMA4N  0700026657   \n",
       "1      4.0     False  07 27, 2015  A1JGAP0185YJI6  0700026657   \n",
       "2      3.0      True  02 23, 2015  A1YJWEXHQBWK2B  0700026657   \n",
       "3      2.0      True  02 20, 2015  A2204E1TH211HT  0700026657   \n",
       "4      5.0      True  12 25, 2014  A2RF5B5H74JLPE  0700026657   \n",
       "\n",
       "        reviewerName                                         reviewText  \\\n",
       "0        Ambrosia075  This game is a bit hard to get the hang of, bu...   \n",
       "1             travis  I played it a while but it was alright. The st...   \n",
       "2  Vincent G. Mezera                                           ok game.   \n",
       "3         Grandma KR  found the game a bit too complicated, not what...   \n",
       "4                jon  great game, I love it and have played it since...   \n",
       "\n",
       "                                       summary  unixReviewTime vote style  \\\n",
       "0                  but when you do it's great.      1445040000  NaN   NaN   \n",
       "1  But in spite of that it was fun, I liked it      1437955200  NaN   NaN   \n",
       "2                                  Three Stars      1424649600  NaN   NaN   \n",
       "3                                    Two Stars      1424390400  NaN   NaN   \n",
       "4                               love this game      1419465600  NaN   NaN   \n",
       "\n",
       "  image                                        description  price  \\\n",
       "0   NaN  Anno 2070, the newest version of the award-win...  39.99   \n",
       "1   NaN  Anno 2070, the newest version of the award-win...  39.99   \n",
       "2   NaN  Anno 2070, the newest version of the award-win...  39.99   \n",
       "3   NaN  Anno 2070, the newest version of the award-win...  39.99   \n",
       "4   NaN  Anno 2070, the newest version of the award-win...  39.99   \n",
       "\n",
       "                                               imUrl  \\\n",
       "0  http://ecx.images-amazon.com/images/I/51R06L8c...   \n",
       "1  http://ecx.images-amazon.com/images/I/51R06L8c...   \n",
       "2  http://ecx.images-amazon.com/images/I/51R06L8c...   \n",
       "3  http://ecx.images-amazon.com/images/I/51R06L8c...   \n",
       "4  http://ecx.images-amazon.com/images/I/51R06L8c...   \n",
       "\n",
       "                                             related              salesRank  \\\n",
       "0  {'also_bought': ['B005OM6CGU', 'B001AWMCMQ', '...  {'Video Games': 7621}   \n",
       "1  {'also_bought': ['B005OM6CGU', 'B001AWMCMQ', '...  {'Video Games': 7621}   \n",
       "2  {'also_bought': ['B005OM6CGU', 'B001AWMCMQ', '...  {'Video Games': 7621}   \n",
       "3  {'also_bought': ['B005OM6CGU', 'B001AWMCMQ', '...  {'Video Games': 7621}   \n",
       "4  {'also_bought': ['B005OM6CGU', 'B001AWMCMQ', '...  {'Video Games': 7621}   \n",
       "\n",
       "                   categories title brand  \n",
       "0  [[Video Games, PC, Games]]   NaN   NaN  \n",
       "1  [[Video Games, PC, Games]]   NaN   NaN  \n",
       "2  [[Video Games, PC, Games]]   NaN   NaN  \n",
       "3  [[Video Games, PC, Games]]   NaN   NaN  \n",
       "4  [[Video Games, PC, Games]]   NaN   NaN  "
      ]
     },
     "execution_count": 9,
     "metadata": {},
     "output_type": "execute_result"
    }
   ],
   "source": [
    "df.head()"
   ]
  },
  {
   "cell_type": "code",
   "execution_count": 10,
   "id": "b7006437-19db-48d8-9b34-7023ef20a7dc",
   "metadata": {
    "tags": []
   },
   "outputs": [],
   "source": [
    "# Slice the df\n",
    "videogames_df = df[['overall', 'unixReviewTime', 'reviewerID', 'asin']]\n",
    "\n",
    "# overall = overall rating\n",
    "# ASIN = Amazon Standard Identification Number\n",
    "columns = ['rating', 'reviewTime', 'reviewerID', 'productID']\n",
    "videogames_df.columns = columns"
   ]
  },
  {
   "cell_type": "code",
   "execution_count": 11,
   "id": "0c0cfffc-eba7-4911-891e-180ef46ccee9",
   "metadata": {
    "tags": []
   },
   "outputs": [
    {
     "data": {
      "text/html": [
       "<div>\n",
       "<style scoped>\n",
       "    .dataframe tbody tr th:only-of-type {\n",
       "        vertical-align: middle;\n",
       "    }\n",
       "\n",
       "    .dataframe tbody tr th {\n",
       "        vertical-align: top;\n",
       "    }\n",
       "\n",
       "    .dataframe thead th {\n",
       "        text-align: right;\n",
       "    }\n",
       "</style>\n",
       "<table border=\"1\" class=\"dataframe\">\n",
       "  <thead>\n",
       "    <tr style=\"text-align: right;\">\n",
       "      <th></th>\n",
       "      <th>productID</th>\n",
       "      <th>reviewerID</th>\n",
       "      <th>reviewTime</th>\n",
       "      <th>rating</th>\n",
       "    </tr>\n",
       "  </thead>\n",
       "  <tbody>\n",
       "    <tr>\n",
       "      <th>0</th>\n",
       "      <td>0700026657</td>\n",
       "      <td>A1HP7NVNPFMA4N</td>\n",
       "      <td>1445040000</td>\n",
       "      <td>5.0</td>\n",
       "    </tr>\n",
       "    <tr>\n",
       "      <th>1</th>\n",
       "      <td>0700026657</td>\n",
       "      <td>A1JGAP0185YJI6</td>\n",
       "      <td>1437955200</td>\n",
       "      <td>4.0</td>\n",
       "    </tr>\n",
       "    <tr>\n",
       "      <th>2</th>\n",
       "      <td>0700026657</td>\n",
       "      <td>A1YJWEXHQBWK2B</td>\n",
       "      <td>1424649600</td>\n",
       "      <td>3.0</td>\n",
       "    </tr>\n",
       "    <tr>\n",
       "      <th>3</th>\n",
       "      <td>0700026657</td>\n",
       "      <td>A2204E1TH211HT</td>\n",
       "      <td>1424390400</td>\n",
       "      <td>2.0</td>\n",
       "    </tr>\n",
       "    <tr>\n",
       "      <th>4</th>\n",
       "      <td>0700026657</td>\n",
       "      <td>A2RF5B5H74JLPE</td>\n",
       "      <td>1419465600</td>\n",
       "      <td>5.0</td>\n",
       "    </tr>\n",
       "  </tbody>\n",
       "</table>\n",
       "</div>"
      ],
      "text/plain": [
       "    productID      reviewerID  reviewTime  rating\n",
       "0  0700026657  A1HP7NVNPFMA4N  1445040000     5.0\n",
       "1  0700026657  A1JGAP0185YJI6  1437955200     4.0\n",
       "2  0700026657  A1YJWEXHQBWK2B  1424649600     3.0\n",
       "3  0700026657  A2204E1TH211HT  1424390400     2.0\n",
       "4  0700026657  A2RF5B5H74JLPE  1419465600     5.0"
      ]
     },
     "metadata": {},
     "output_type": "display_data"
    },
    {
     "data": {
      "text/plain": [
       "(359839, 4)"
      ]
     },
     "metadata": {},
     "output_type": "display_data"
    }
   ],
   "source": [
    "videogames_df = videogames_df.reindex(columns=['productID', 'reviewerID', 'reviewTime', 'rating'])\n",
    "display(videogames_df.head())\n",
    "display(videogames_df.shape)"
   ]
  },
  {
   "cell_type": "code",
   "execution_count": 12,
   "id": "0751f2c0-afe2-4c2e-ac2e-473fcc208e62",
   "metadata": {
    "tags": []
   },
   "outputs": [
    {
     "name": "stdout",
     "output_type": "stream",
     "text": [
      "Number of missing values across columns\n",
      " productID     0\n",
      "reviewerID    0\n",
      "reviewTime    0\n",
      "rating        0\n",
      "dtype: int64\n"
     ]
    }
   ],
   "source": [
    "print('Number of missing values across columns\\n', videogames_df.isnull().sum())"
   ]
  },
  {
   "cell_type": "markdown",
   "id": "197ca140-701d-440d-86a1-4dca17050071",
   "metadata": {},
   "source": [
    "**There are no missing values in the dataset.**"
   ]
  },
  {
   "cell_type": "markdown",
   "id": "aeb152b8-00a1-4a90-8459-758c07a6d5c8",
   "metadata": {
    "tags": []
   },
   "source": [
    "## Exploratory Data Analysis"
   ]
  },
  {
   "cell_type": "code",
   "execution_count": 13,
   "id": "e9130b35-ac9b-4906-b742-aefd8c00f323",
   "metadata": {
    "tags": []
   },
   "outputs": [
    {
     "data": {
      "image/png": "[encoded data removed]",
      "text/plain": [
       "<Figure size 1000x500 with 2 Axes>"
      ]
     },
     "metadata": {},
     "output_type": "display_data"
    }
   ],
   "source": [
    "videogames_df.hist(figsize=(10, 5))\n",
    "plt.show()"
   ]
  },
  {
   "cell_type": "markdown",
   "id": "1e788131-c56e-4e3b-b300-cd07c2a840bc",
   "metadata": {},
   "source": [
    "There are a huge number of 5-star ratings and rating time does not look like it can give any meaningful information."
   ]
  },
  {
   "cell_type": "code",
   "execution_count": 14,
   "id": "961eba23-c182-442e-b845-53f4f8adb0ca",
   "metadata": {
    "tags": []
   },
   "outputs": [],
   "source": [
    "videogames_df.drop('reviewTime', axis = 1, inplace = True)"
   ]
  },
  {
   "cell_type": "code",
   "execution_count": 15,
   "id": "0bcb4cef-0bc0-4fa3-aaac-e6735de0e73d",
   "metadata": {
    "tags": []
   },
   "outputs": [
    {
     "name": "stdout",
     "output_type": "stream",
     "text": [
      "A summary of the dataset\n",
      "--------------------------------------------------\n",
      "Number of Ratings          = 359839\n",
      "Number of unique Users     = 52807\n",
      "Number of unique Products  = 13012\n",
      "--------------------------------------------------\n"
     ]
    }
   ],
   "source": [
    "print(\"A summary of the dataset\")\n",
    "print(\"-\"*50)\n",
    "print(\"Number of Ratings          =\", videogames_df.shape[0]) # all the data points\n",
    "print(\"Number of unique Users     =\", len(np.unique(videogames_df.reviewerID)))\n",
    "print(\"Number of unique Products  =\", len(np.unique(videogames_df.productID)))\n",
    "print(\"-\"*50)"
   ]
  },
  {
   "cell_type": "code",
   "execution_count": 16,
   "id": "d0b0b779-2f74-42ce-b6c5-782b989a465e",
   "metadata": {
    "tags": []
   },
   "outputs": [
    {
     "name": "stdout",
     "output_type": "stream",
     "text": [
      "Minimum rating is: 1\n",
      "Maximum rating is: 5\n"
     ]
    }
   ],
   "source": [
    "print('Minimum rating is: %d' %(videogames_df.rating.min()))\n",
    "print('Maximum rating is: %d' %(videogames_df.rating.max()))"
   ]
  },
  {
   "cell_type": "markdown",
   "id": "c1c42608-f37d-4e45-87bd-ad91bd4bb752",
   "metadata": {},
   "source": [
    "Ratings are within ranges of 1 to 5"
   ]
  },
  {
   "cell_type": "markdown",
   "id": "826bf73b-44e9-4289-a2d1-2ef659c808f2",
   "metadata": {},
   "source": [
    "## Analysis of Ratings"
   ]
  },
  {
   "cell_type": "code",
   "execution_count": 17,
   "id": "ea4ecf00-a670-4457-9bf7-08883b69c244",
   "metadata": {
    "tags": []
   },
   "outputs": [
    {
     "data": {
      "image/png": "[encoded data removed]",
      "text/plain": [
       "<Figure size 500x300 with 1 Axes>"
      ]
     },
     "metadata": {},
     "output_type": "display_data"
    }
   ],
   "source": [
    "# Checking the distribution of the ratings with a countplot\n",
    "g = sns.countplot(x='rating', data=videogames_df)\n",
    "g.set_ylabel(\"Total number of ratings\")\n",
    "g.figure.set_size_inches(5, 3)\n",
    "sns.despine()"
   ]
  },
  {
   "cell_type": "code",
   "execution_count": 18,
   "id": "405e381d-6189-4488-b565-c786804bcd36",
   "metadata": {
    "tags": []
   },
   "outputs": [
    {
     "data": {
      "text/plain": [
       "<Axes: ylabel='rating'>"
      ]
     },
     "execution_count": 18,
     "metadata": {},
     "output_type": "execute_result"
    },
    {
     "data": {
      "image/png": "[encoded data removed]",
      "text/plain": [
       "<Figure size 640x480 with 1 Axes>"
      ]
     },
     "metadata": {},
     "output_type": "display_data"
    }
   ],
   "source": [
    "sns.boxplot(y='rating',data=videogames_df)"
   ]
  },
  {
   "cell_type": "markdown",
   "id": "9b76e7e3-d3be-4a0c-856a-54c28d16cb80",
   "metadata": {},
   "source": [
    "There are a higher number of 5 star ratings when compared to all others. <br>\n",
    "Most users have rated the products between 4 and 5"
   ]
  },
  {
   "cell_type": "code",
   "execution_count": 19,
   "id": "6e7a72f7-c172-444d-b0aa-719c36c9c1f3",
   "metadata": {
    "tags": []
   },
   "outputs": [
    {
     "name": "stdout",
     "output_type": "stream",
     "text": [
      "Top 10 users based on ratings: \n",
      "\n",
      " reviewerID\n",
      "A3V6Z4RCDGRC44    762\n",
      "AJKWF4W7QD4NS     678\n",
      "A3W4D8XOGLWUN5    461\n",
      "A2TCG2HV1VJP6V    398\n",
      "A2QHS1ZCIQOL7E    374\n",
      "A29BQ6B90Y1R5F    358\n",
      "A119Q9NFGVOEJZ    323\n",
      "A2582KMXLK2P06    303\n",
      "A20DZX38KRBIT8    250\n",
      "A3GKMQFL05Z79K    226\n",
      "dtype: int64\n"
     ]
    }
   ],
   "source": [
    "# Display the top 10 users based on counts ratings\n",
    "videogames_df.drop_duplicates(inplace=True)\n",
    "most_rated = videogames_df.groupby('reviewerID').size().sort_values(ascending=False)\n",
    "print('Top 10 users based on ratings: \\n\\n', most_rated[:10])"
   ]
  },
  {
   "cell_type": "code",
   "execution_count": 20,
   "id": "2f881d0f-864a-4761-9d84-acc3c08a634a",
   "metadata": {
    "tags": []
   },
   "outputs": [
    {
     "name": "stdout",
     "output_type": "stream",
     "text": [
      "Number of users who have rated 10 or more products = 133490\n",
      "Number of unique users in the final dataset =  7224\n",
      "Number of unique products in the final dataset =  12665\n"
     ]
    }
   ],
   "source": [
    "counts = videogames_df.reviewerID.value_counts()\n",
    "videogames_trimmed = videogames_df[videogames_df.reviewerID.isin(counts[counts>=10].index)]\n",
    "print('Number of users who have rated 10 or more products =', len(videogames_trimmed))\n",
    "print('Number of unique users in the final dataset = ', videogames_trimmed['reviewerID'].nunique())\n",
    "print('Number of unique products in the final dataset = ', videogames_trimmed['productID'].nunique())"
   ]
  },
  {
   "cell_type": "markdown",
   "id": "70362475-80de-4e0d-9e0c-3840be6322f0",
   "metadata": {
    "tags": []
   },
   "source": [
    "Approximately one-third of the total users have rated at least 10 products. I am going to consider only a subset of the dataset imposing this restriction."
   ]
  },
  {
   "cell_type": "code",
   "execution_count": 21,
   "id": "7713269a-5b3e-4cea-8bb4-6990e51a0d4c",
   "metadata": {
    "tags": []
   },
   "outputs": [
    {
     "data": {
      "image/png": "[encoded data removed]",
      "text/plain": [
       "<Figure size 640x480 with 1 Axes>"
      ]
     },
     "metadata": {},
     "output_type": "display_data"
    }
   ],
   "source": [
    "sns.boxplot(data = most_rated);"
   ]
  },
  {
   "cell_type": "markdown",
   "id": "424dbe3d-6f8b-46e5-bfb9-901df7796efe",
   "metadata": {},
   "source": [
    "Box plot shows that we have few users who rate many items (appearing in outliers like 762, 678) but the majority users rate very few items (~under 30)"
   ]
  },
  {
   "cell_type": "code",
   "execution_count": 22,
   "id": "ef4c89c6-687d-4703-b5b8-3f2db39733b6",
   "metadata": {
    "tags": []
   },
   "outputs": [
    {
     "data": {
      "image/png": "[encoded data removed]",
      "text/plain": [
       "<Figure size 960x480 with 1 Axes>"
      ]
     },
     "metadata": {},
     "output_type": "display_data"
    }
   ],
   "source": [
    "# Products also have skewed ratings with majority of the products having a very few ratings\n",
    "ratings_per_product = videogames_trimmed.groupby(by='productID')['rating'].count().sort_values(ascending=False)\n",
    "\n",
    "fig = plt.figure(figsize=plt.figaspect(.5))\n",
    "ax = plt.gca()\n",
    "plt.plot(ratings_per_product.values)\n",
    "plt.title('Product vs No. of ratings')\n",
    "plt.xlabel('Product')\n",
    "plt.ylabel('# ratings per product')\n",
    "ax.set_xticklabels([])\n",
    "plt.show();"
   ]
  },
  {
   "cell_type": "code",
   "execution_count": 23,
   "id": "a8b14b14-5f69-42b1-bd50-f82b814ed95d",
   "metadata": {
    "tags": []
   },
   "outputs": [
    {
     "data": {
      "text/html": [
       "<div>\n",
       "<style scoped>\n",
       "    .dataframe tbody tr th:only-of-type {\n",
       "        vertical-align: middle;\n",
       "    }\n",
       "\n",
       "    .dataframe tbody tr th {\n",
       "        vertical-align: top;\n",
       "    }\n",
       "\n",
       "    .dataframe thead th {\n",
       "        text-align: right;\n",
       "    }\n",
       "</style>\n",
       "<table border=\"1\" class=\"dataframe\">\n",
       "  <thead>\n",
       "    <tr style=\"text-align: right;\">\n",
       "      <th></th>\n",
       "      <th>rating</th>\n",
       "      <th>rating_count</th>\n",
       "    </tr>\n",
       "    <tr>\n",
       "      <th>productID</th>\n",
       "      <th></th>\n",
       "      <th></th>\n",
       "    </tr>\n",
       "  </thead>\n",
       "  <tbody>\n",
       "    <tr>\n",
       "      <th>0700026657</th>\n",
       "      <td>3.666667</td>\n",
       "      <td>6</td>\n",
       "    </tr>\n",
       "    <tr>\n",
       "      <th>0700099867</th>\n",
       "      <td>3.700000</td>\n",
       "      <td>10</td>\n",
       "    </tr>\n",
       "    <tr>\n",
       "      <th>3828770193</th>\n",
       "      <td>4.666667</td>\n",
       "      <td>3</td>\n",
       "    </tr>\n",
       "    <tr>\n",
       "      <th>6050036071</th>\n",
       "      <td>4.444444</td>\n",
       "      <td>9</td>\n",
       "    </tr>\n",
       "    <tr>\n",
       "      <th>7293000936</th>\n",
       "      <td>5.000000</td>\n",
       "      <td>3</td>\n",
       "    </tr>\n",
       "  </tbody>\n",
       "</table>\n",
       "</div>"
      ],
      "text/plain": [
       "              rating  rating_count\n",
       "productID                         \n",
       "0700026657  3.666667             6\n",
       "0700099867  3.700000            10\n",
       "3828770193  4.666667             3\n",
       "6050036071  4.444444             9\n",
       "7293000936  5.000000             3"
      ]
     },
     "execution_count": 23,
     "metadata": {},
     "output_type": "execute_result"
    }
   ],
   "source": [
    "ratings_mean_count = pd.DataFrame(videogames_trimmed.groupby('productID')['rating'].mean())\n",
    "ratings_mean_count['rating_count'] = pd.DataFrame(videogames_trimmed.groupby('productID')['rating'].count())\n",
    "ratings_mean_count.head()"
   ]
  },
  {
   "cell_type": "code",
   "execution_count": 24,
   "id": "e01be561-e4fc-41c1-bb8c-c82e5e086c47",
   "metadata": {
    "tags": []
   },
   "outputs": [
    {
     "data": {
      "text/plain": [
       "240"
      ]
     },
     "metadata": {},
     "output_type": "display_data"
    }
   ],
   "source": [
    "# Maximum number of ratings received for a product is 240\n",
    "display(ratings_mean_count['rating_count'].max())"
   ]
  },
  {
   "cell_type": "code",
   "execution_count": 25,
   "id": "df035b9e-0982-4495-9318-f351b2c9beca",
   "metadata": {
    "tags": []
   },
   "outputs": [
    {
     "data": {
      "image/png": "[encoded data removed]",
      "text/plain": [
       "<Figure size 600x400 with 1 Axes>"
      ]
     },
     "metadata": {},
     "output_type": "display_data"
    }
   ],
   "source": [
    "# Majority of the products have only received a single rating \n",
    "# Hence, it is a right skewed distribution\n",
    "\n",
    "plt.figure(figsize=(6,4));\n",
    "plt.rcParams['patch.force_edgecolor'] = True;\n",
    "ratings_mean_count['rating_count'].hist(bins=40);\n",
    "plt.show();"
   ]
  },
  {
   "cell_type": "code",
   "execution_count": 26,
   "id": "3a1f86eb-ce1b-4244-a298-0f0dc17910df",
   "metadata": {
    "tags": []
   },
   "outputs": [
    {
     "data": {
      "text/plain": [
       "<Figure size 600x400 with 0 Axes>"
      ]
     },
     "metadata": {},
     "output_type": "display_data"
    },
    {
     "data": {
      "image/png": "[encoded data removed]",
      "text/plain": [
       "<Figure size 600x600 with 3 Axes>"
      ]
     },
     "metadata": {},
     "output_type": "display_data"
    }
   ],
   "source": [
    "# From the joint plot below it seems that popular products (higher ratings) tend to be rated more frequently\n",
    "# and a higher number of users have rated products in the section of outliers.\n",
    "\n",
    "# For a Popularity-Based system, we can consider recommending them to the users.\n",
    "\n",
    "plt.figure(figsize=(6,4));\n",
    "plt.rcParams['patch.force_edgecolor'] = True;\n",
    "sns.jointplot(x='rating', y='rating_count', data=ratings_mean_count, alpha=0.4);\n",
    "plt.show();"
   ]
  },
  {
   "cell_type": "markdown",
   "id": "d39caf95-8892-4536-b4c7-fbdd8fc41f67",
   "metadata": {},
   "source": [
    "I don't know why two similar looking boxplots showed up here. I tried to remove one of them and could not."
   ]
  },
  {
   "cell_type": "markdown",
   "id": "2116aea5-3334-44cb-823f-163c5e2a59cc",
   "metadata": {
    "tags": []
   },
   "source": [
    "## Train - Test split"
   ]
  },
  {
   "cell_type": "code",
   "execution_count": 27,
   "id": "84c0b076-b293-42c2-bd19-35c6395c2558",
   "metadata": {
    "tags": []
   },
   "outputs": [
    {
     "data": {
      "text/html": [
       "<div>\n",
       "<style scoped>\n",
       "    .dataframe tbody tr th:only-of-type {\n",
       "        vertical-align: middle;\n",
       "    }\n",
       "\n",
       "    .dataframe tbody tr th {\n",
       "        vertical-align: top;\n",
       "    }\n",
       "\n",
       "    .dataframe thead th {\n",
       "        text-align: right;\n",
       "    }\n",
       "</style>\n",
       "<table border=\"1\" class=\"dataframe\">\n",
       "  <thead>\n",
       "    <tr style=\"text-align: right;\">\n",
       "      <th></th>\n",
       "      <th>productID</th>\n",
       "      <th>reviewerID</th>\n",
       "      <th>rating</th>\n",
       "    </tr>\n",
       "  </thead>\n",
       "  <tbody>\n",
       "    <tr>\n",
       "      <th>276116</th>\n",
       "      <td>B00576U8CC</td>\n",
       "      <td>A3LZXB1SBY0GVB</td>\n",
       "      <td>3.0</td>\n",
       "    </tr>\n",
       "    <tr>\n",
       "      <th>84189</th>\n",
       "      <td>B000A0XSP4</td>\n",
       "      <td>A3ODOZPPOGAPW4</td>\n",
       "      <td>5.0</td>\n",
       "    </tr>\n",
       "    <tr>\n",
       "      <th>906</th>\n",
       "      <td>B00000DMB3</td>\n",
       "      <td>A3713PP4MADKED</td>\n",
       "      <td>5.0</td>\n",
       "    </tr>\n",
       "    <tr>\n",
       "      <th>247577</th>\n",
       "      <td>B0047ORROW</td>\n",
       "      <td>A201G0BOTB1XLO</td>\n",
       "      <td>5.0</td>\n",
       "    </tr>\n",
       "    <tr>\n",
       "      <th>184923</th>\n",
       "      <td>B00189MNKM</td>\n",
       "      <td>AFJAC5NZ8R5VS</td>\n",
       "      <td>5.0</td>\n",
       "    </tr>\n",
       "  </tbody>\n",
       "</table>\n",
       "</div>"
      ],
      "text/plain": [
       "         productID      reviewerID  rating\n",
       "276116  B00576U8CC  A3LZXB1SBY0GVB     3.0\n",
       "84189   B000A0XSP4  A3ODOZPPOGAPW4     5.0\n",
       "906     B00000DMB3  A3713PP4MADKED     5.0\n",
       "247577  B0047ORROW  A201G0BOTB1XLO     5.0\n",
       "184923  B00189MNKM   AFJAC5NZ8R5VS     5.0"
      ]
     },
     "execution_count": 27,
     "metadata": {},
     "output_type": "execute_result"
    }
   ],
   "source": [
    "# Split the data into train and test datasets with 80:20 ratio\n",
    "train_data, test_data = train_test_split(videogames_df, test_size = 0.2, random_state = 50)\n",
    "train_data.head()"
   ]
  },
  {
   "cell_type": "markdown",
   "id": "b633d207-83b9-4fb6-8c25-ae7ae6f16f92",
   "metadata": {},
   "source": [
    "## Making predictions"
   ]
  },
  {
   "cell_type": "code",
   "execution_count": 28,
   "id": "035e98aa-a75b-4ac6-96f4-949a5159d67c",
   "metadata": {
    "tags": []
   },
   "outputs": [
    {
     "data": {
      "text/html": [
       "<div>\n",
       "<style scoped>\n",
       "    .dataframe tbody tr th:only-of-type {\n",
       "        vertical-align: middle;\n",
       "    }\n",
       "\n",
       "    .dataframe tbody tr th {\n",
       "        vertical-align: top;\n",
       "    }\n",
       "\n",
       "    .dataframe thead th {\n",
       "        text-align: right;\n",
       "    }\n",
       "</style>\n",
       "<table border=\"1\" class=\"dataframe\">\n",
       "  <thead>\n",
       "    <tr style=\"text-align: right;\">\n",
       "      <th></th>\n",
       "      <th>productID</th>\n",
       "      <th>score</th>\n",
       "    </tr>\n",
       "  </thead>\n",
       "  <tbody>\n",
       "    <tr>\n",
       "      <th>0</th>\n",
       "      <td>0700026657</td>\n",
       "      <td>12</td>\n",
       "    </tr>\n",
       "    <tr>\n",
       "      <th>1</th>\n",
       "      <td>0700099867</td>\n",
       "      <td>21</td>\n",
       "    </tr>\n",
       "    <tr>\n",
       "      <th>2</th>\n",
       "      <td>3828770193</td>\n",
       "      <td>4</td>\n",
       "    </tr>\n",
       "    <tr>\n",
       "      <th>3</th>\n",
       "      <td>6050036071</td>\n",
       "      <td>34</td>\n",
       "    </tr>\n",
       "    <tr>\n",
       "      <th>4</th>\n",
       "      <td>7293000936</td>\n",
       "      <td>8</td>\n",
       "    </tr>\n",
       "    <tr>\n",
       "      <th>5</th>\n",
       "      <td>8176503290</td>\n",
       "      <td>7</td>\n",
       "    </tr>\n",
       "    <tr>\n",
       "      <th>6</th>\n",
       "      <td>8565000168</td>\n",
       "      <td>5</td>\n",
       "    </tr>\n",
       "    <tr>\n",
       "      <th>7</th>\n",
       "      <td>907843905X</td>\n",
       "      <td>6</td>\n",
       "    </tr>\n",
       "    <tr>\n",
       "      <th>8</th>\n",
       "      <td>9625990674</td>\n",
       "      <td>22</td>\n",
       "    </tr>\n",
       "    <tr>\n",
       "      <th>9</th>\n",
       "      <td>9882100848</td>\n",
       "      <td>2</td>\n",
       "    </tr>\n",
       "  </tbody>\n",
       "</table>\n",
       "</div>"
      ],
      "text/plain": [
       "    productID  score\n",
       "0  0700026657     12\n",
       "1  0700099867     21\n",
       "2  3828770193      4\n",
       "3  6050036071     34\n",
       "4  7293000936      8\n",
       "5  8176503290      7\n",
       "6  8565000168      5\n",
       "7  907843905X      6\n",
       "8  9625990674     22\n",
       "9  9882100848      2"
      ]
     },
     "execution_count": 28,
     "metadata": {},
     "output_type": "execute_result"
    }
   ],
   "source": [
    "# Count of reviewerID for each unique product as its recommendation score\n",
    "# We can tweak this by considering a weighted voting process.\n",
    "\n",
    "train_data_grouped = train_data.groupby('productID').agg({'reviewerID': 'count'}).reset_index()\n",
    "train_data_grouped.rename(columns = {'reviewerID': 'score'},inplace=True)\n",
    "train_data_grouped.head(10)"
   ]
  },
  {
   "cell_type": "code",
   "execution_count": 29,
   "id": "e7de6d32-cfaa-40bb-9a57-bc608473f6de",
   "metadata": {
    "tags": []
   },
   "outputs": [
    {
     "data": {
      "text/html": [
       "<div>\n",
       "<style scoped>\n",
       "    .dataframe tbody tr th:only-of-type {\n",
       "        vertical-align: middle;\n",
       "    }\n",
       "\n",
       "    .dataframe tbody tr th {\n",
       "        vertical-align: top;\n",
       "    }\n",
       "\n",
       "    .dataframe thead th {\n",
       "        text-align: right;\n",
       "    }\n",
       "</style>\n",
       "<table border=\"1\" class=\"dataframe\">\n",
       "  <thead>\n",
       "    <tr style=\"text-align: right;\">\n",
       "      <th></th>\n",
       "      <th>productID</th>\n",
       "      <th>score</th>\n",
       "      <th>rank</th>\n",
       "    </tr>\n",
       "  </thead>\n",
       "  <tbody>\n",
       "    <tr>\n",
       "      <th>7282</th>\n",
       "      <td>B00178630A</td>\n",
       "      <td>547</td>\n",
       "      <td>1.0</td>\n",
       "    </tr>\n",
       "    <tr>\n",
       "      <th>9704</th>\n",
       "      <td>B003ZSP0WW</td>\n",
       "      <td>545</td>\n",
       "      <td>2.0</td>\n",
       "    </tr>\n",
       "    <tr>\n",
       "      <th>4262</th>\n",
       "      <td>B0009VXBAQ</td>\n",
       "      <td>508</td>\n",
       "      <td>3.0</td>\n",
       "    </tr>\n",
       "    <tr>\n",
       "      <th>10359</th>\n",
       "      <td>B0050SYX8W</td>\n",
       "      <td>501</td>\n",
       "      <td>4.0</td>\n",
       "    </tr>\n",
       "    <tr>\n",
       "      <th>12190</th>\n",
       "      <td>B00DC7G2W8</td>\n",
       "      <td>493</td>\n",
       "      <td>5.0</td>\n",
       "    </tr>\n",
       "  </tbody>\n",
       "</table>\n",
       "</div>"
      ],
      "text/plain": [
       "        productID  score  rank\n",
       "7282   B00178630A    547   1.0\n",
       "9704   B003ZSP0WW    545   2.0\n",
       "4262   B0009VXBAQ    508   3.0\n",
       "10359  B0050SYX8W    501   4.0\n",
       "12190  B00DC7G2W8    493   5.0"
      ]
     },
     "execution_count": 29,
     "metadata": {},
     "output_type": "execute_result"
    }
   ],
   "source": [
    "# Sort the products on recommendation score \n",
    "train_data_sort = train_data_grouped.sort_values(['score', 'productID'], ascending = [0,1]) \n",
    "      \n",
    "# Generate a recommendation rank based upon score \n",
    "train_data_sort['rank'] = train_data_sort['score'].rank(ascending=0, method='first') \n",
    "          \n",
    "#Get the top 5 recommendations \n",
    "popularity_recommendations = train_data_sort.head(5) \n",
    "popularity_recommendations "
   ]
  },
  {
   "cell_type": "markdown",
   "id": "4b73acc8-53e1-4e9a-b5da-c3403042d82c",
   "metadata": {},
   "source": [
    "## Evaluation of the above Popularity-based model"
   ]
  },
  {
   "cell_type": "markdown",
   "id": "d71c2b57-1bcc-4524-b9b8-7bba80511e10",
   "metadata": {},
   "source": [
    "I am trying to calculating the RMSE of the above popularity based recommendation system model as follows <br>\n",
    "\n",
    "**Recommendation Score** = Total number of users who have given a rating for the product <br>\n",
    "**Average rating** = Sum of all the ratings received for a product / Recommendation Score <br>\n",
    "\n",
    "After calculating the Average ratings in the grouped version of test dataset, Mean squared error for Actual ratings vs Average ratings is computed. <br>\n",
    "And this is defined as the RMSE for the test dataset.\n"
   ]
  },
  {
   "cell_type": "code",
   "execution_count": 30,
   "id": "efb76acb-3c5b-4935-be0e-19dd6e2e060f",
   "metadata": {
    "tags": []
   },
   "outputs": [],
   "source": [
    "# Since rating present in the test data is the actual rating, renaming it to 'actual_rating'\n",
    "test_data_copy = test_data.copy()\n",
    "test_data_copy.drop(['reviewerID'],axis=1,inplace=True)\n",
    "test_data_copy.rename(columns = {'rating':'actual_rating'}, inplace = True)"
   ]
  },
  {
   "cell_type": "code",
   "execution_count": 31,
   "id": "e8756106-5643-4fb1-a4c1-6929a6f0c897",
   "metadata": {
    "tags": []
   },
   "outputs": [
    {
     "data": {
      "text/html": [
       "<div>\n",
       "<style scoped>\n",
       "    .dataframe tbody tr th:only-of-type {\n",
       "        vertical-align: middle;\n",
       "    }\n",
       "\n",
       "    .dataframe tbody tr th {\n",
       "        vertical-align: top;\n",
       "    }\n",
       "\n",
       "    .dataframe thead th {\n",
       "        text-align: right;\n",
       "    }\n",
       "</style>\n",
       "<table border=\"1\" class=\"dataframe\">\n",
       "  <thead>\n",
       "    <tr style=\"text-align: right;\">\n",
       "      <th></th>\n",
       "      <th>productID</th>\n",
       "      <th>sum_rating</th>\n",
       "    </tr>\n",
       "  </thead>\n",
       "  <tbody>\n",
       "    <tr>\n",
       "      <th>0</th>\n",
       "      <td>0700026657</td>\n",
       "      <td>43.0</td>\n",
       "    </tr>\n",
       "    <tr>\n",
       "      <th>1</th>\n",
       "      <td>0700099867</td>\n",
       "      <td>73.0</td>\n",
       "    </tr>\n",
       "    <tr>\n",
       "      <th>2</th>\n",
       "      <td>3828770193</td>\n",
       "      <td>16.0</td>\n",
       "    </tr>\n",
       "    <tr>\n",
       "      <th>3</th>\n",
       "      <td>6050036071</td>\n",
       "      <td>146.0</td>\n",
       "    </tr>\n",
       "    <tr>\n",
       "      <th>4</th>\n",
       "      <td>7293000936</td>\n",
       "      <td>34.0</td>\n",
       "    </tr>\n",
       "  </tbody>\n",
       "</table>\n",
       "</div>"
      ],
      "text/plain": [
       "    productID  sum_rating\n",
       "0  0700026657        43.0\n",
       "1  0700099867        73.0\n",
       "2  3828770193        16.0\n",
       "3  6050036071       146.0\n",
       "4  7293000936        34.0"
      ]
     },
     "execution_count": 31,
     "metadata": {},
     "output_type": "execute_result"
    }
   ],
   "source": [
    "# Counting reviewerID for each unique product as recommendation score \n",
    "train_data_grouped2 = train_data.groupby('productID').agg({'rating': 'sum'}).reset_index()\n",
    "train_data_grouped2.rename(columns = {'rating': 'sum_rating'},inplace=True)\n",
    "train_data_grouped2.head()"
   ]
  },
  {
   "cell_type": "code",
   "execution_count": 32,
   "id": "ac66b83b-2f42-4bb7-b63f-ad3a0e4dcc5b",
   "metadata": {
    "tags": []
   },
   "outputs": [
    {
     "data": {
      "text/html": [
       "<div>\n",
       "<style scoped>\n",
       "    .dataframe tbody tr th:only-of-type {\n",
       "        vertical-align: middle;\n",
       "    }\n",
       "\n",
       "    .dataframe tbody tr th {\n",
       "        vertical-align: top;\n",
       "    }\n",
       "\n",
       "    .dataframe thead th {\n",
       "        text-align: right;\n",
       "    }\n",
       "</style>\n",
       "<table border=\"1\" class=\"dataframe\">\n",
       "  <thead>\n",
       "    <tr style=\"text-align: right;\">\n",
       "      <th></th>\n",
       "      <th>productID</th>\n",
       "      <th>sum_rating</th>\n",
       "      <th>score</th>\n",
       "      <th>rank</th>\n",
       "    </tr>\n",
       "  </thead>\n",
       "  <tbody>\n",
       "    <tr>\n",
       "      <th>0</th>\n",
       "      <td>0700026657</td>\n",
       "      <td>43.0</td>\n",
       "      <td>12</td>\n",
       "      <td>5198.0</td>\n",
       "    </tr>\n",
       "    <tr>\n",
       "      <th>1</th>\n",
       "      <td>0700099867</td>\n",
       "      <td>73.0</td>\n",
       "      <td>21</td>\n",
       "      <td>3058.0</td>\n",
       "    </tr>\n",
       "    <tr>\n",
       "      <th>2</th>\n",
       "      <td>3828770193</td>\n",
       "      <td>16.0</td>\n",
       "      <td>4</td>\n",
       "      <td>11270.0</td>\n",
       "    </tr>\n",
       "    <tr>\n",
       "      <th>3</th>\n",
       "      <td>6050036071</td>\n",
       "      <td>146.0</td>\n",
       "      <td>34</td>\n",
       "      <td>1788.0</td>\n",
       "    </tr>\n",
       "    <tr>\n",
       "      <th>4</th>\n",
       "      <td>7293000936</td>\n",
       "      <td>34.0</td>\n",
       "      <td>8</td>\n",
       "      <td>7088.0</td>\n",
       "    </tr>\n",
       "  </tbody>\n",
       "</table>\n",
       "</div>"
      ],
      "text/plain": [
       "    productID  sum_rating  score     rank\n",
       "0  0700026657        43.0     12   5198.0\n",
       "1  0700099867        73.0     21   3058.0\n",
       "2  3828770193        16.0      4  11270.0\n",
       "3  6050036071       146.0     34   1788.0\n",
       "4  7293000936        34.0      8   7088.0"
      ]
     },
     "execution_count": 32,
     "metadata": {},
     "output_type": "execute_result"
    }
   ],
   "source": [
    "train_data_inner = pd.merge(train_data_grouped2, train_data_sort)\n",
    "train_data_inner.head()"
   ]
  },
  {
   "cell_type": "code",
   "execution_count": 33,
   "id": "6f79c289-5ae7-40cd-8959-818328613b37",
   "metadata": {
    "tags": []
   },
   "outputs": [
    {
     "data": {
      "text/html": [
       "<div>\n",
       "<style scoped>\n",
       "    .dataframe tbody tr th:only-of-type {\n",
       "        vertical-align: middle;\n",
       "    }\n",
       "\n",
       "    .dataframe tbody tr th {\n",
       "        vertical-align: top;\n",
       "    }\n",
       "\n",
       "    .dataframe thead th {\n",
       "        text-align: right;\n",
       "    }\n",
       "</style>\n",
       "<table border=\"1\" class=\"dataframe\">\n",
       "  <thead>\n",
       "    <tr style=\"text-align: right;\">\n",
       "      <th></th>\n",
       "      <th>productID</th>\n",
       "      <th>sum_rating</th>\n",
       "      <th>score</th>\n",
       "      <th>rank</th>\n",
       "      <th>avg_rating</th>\n",
       "    </tr>\n",
       "  </thead>\n",
       "  <tbody>\n",
       "    <tr>\n",
       "      <th>0</th>\n",
       "      <td>0700026657</td>\n",
       "      <td>43.0</td>\n",
       "      <td>12</td>\n",
       "      <td>5198.0</td>\n",
       "      <td>3.583333</td>\n",
       "    </tr>\n",
       "    <tr>\n",
       "      <th>1</th>\n",
       "      <td>0700099867</td>\n",
       "      <td>73.0</td>\n",
       "      <td>21</td>\n",
       "      <td>3058.0</td>\n",
       "      <td>3.476190</td>\n",
       "    </tr>\n",
       "    <tr>\n",
       "      <th>2</th>\n",
       "      <td>3828770193</td>\n",
       "      <td>16.0</td>\n",
       "      <td>4</td>\n",
       "      <td>11270.0</td>\n",
       "      <td>4.000000</td>\n",
       "    </tr>\n",
       "    <tr>\n",
       "      <th>3</th>\n",
       "      <td>6050036071</td>\n",
       "      <td>146.0</td>\n",
       "      <td>34</td>\n",
       "      <td>1788.0</td>\n",
       "      <td>4.294118</td>\n",
       "    </tr>\n",
       "    <tr>\n",
       "      <th>4</th>\n",
       "      <td>7293000936</td>\n",
       "      <td>34.0</td>\n",
       "      <td>8</td>\n",
       "      <td>7088.0</td>\n",
       "      <td>4.250000</td>\n",
       "    </tr>\n",
       "  </tbody>\n",
       "</table>\n",
       "</div>"
      ],
      "text/plain": [
       "    productID  sum_rating  score     rank  avg_rating\n",
       "0  0700026657        43.0     12   5198.0    3.583333\n",
       "1  0700099867        73.0     21   3058.0    3.476190\n",
       "2  3828770193        16.0      4  11270.0    4.000000\n",
       "3  6050036071       146.0     34   1788.0    4.294118\n",
       "4  7293000936        34.0      8   7088.0    4.250000"
      ]
     },
     "execution_count": 33,
     "metadata": {},
     "output_type": "execute_result"
    }
   ],
   "source": [
    "# Obtain the average rating of the product across users\n",
    "train_data_inner[\"avg_rating\"] = train_data_inner[\"sum_rating\"]/train_data_inner[\"score\"]\n",
    "train_data_inner.head()"
   ]
  },
  {
   "cell_type": "code",
   "execution_count": 34,
   "id": "a41b44f0-0bbb-4cff-936b-40b10f02bd46",
   "metadata": {
    "tags": []
   },
   "outputs": [
    {
     "data": {
      "text/html": [
       "<div>\n",
       "<style scoped>\n",
       "    .dataframe tbody tr th:only-of-type {\n",
       "        vertical-align: middle;\n",
       "    }\n",
       "\n",
       "    .dataframe tbody tr th {\n",
       "        vertical-align: top;\n",
       "    }\n",
       "\n",
       "    .dataframe thead th {\n",
       "        text-align: right;\n",
       "    }\n",
       "</style>\n",
       "<table border=\"1\" class=\"dataframe\">\n",
       "  <thead>\n",
       "    <tr style=\"text-align: right;\">\n",
       "      <th></th>\n",
       "      <th>productID</th>\n",
       "      <th>sum_rating</th>\n",
       "      <th>score</th>\n",
       "      <th>rank</th>\n",
       "      <th>avg_rating</th>\n",
       "      <th>actual_rating</th>\n",
       "    </tr>\n",
       "  </thead>\n",
       "  <tbody>\n",
       "    <tr>\n",
       "      <th>0</th>\n",
       "      <td>0700026657</td>\n",
       "      <td>43.0</td>\n",
       "      <td>12</td>\n",
       "      <td>5198.0</td>\n",
       "      <td>3.583333</td>\n",
       "      <td>5.0</td>\n",
       "    </tr>\n",
       "    <tr>\n",
       "      <th>1</th>\n",
       "      <td>0700099867</td>\n",
       "      <td>73.0</td>\n",
       "      <td>21</td>\n",
       "      <td>3058.0</td>\n",
       "      <td>3.476190</td>\n",
       "      <td>1.0</td>\n",
       "    </tr>\n",
       "    <tr>\n",
       "      <th>2</th>\n",
       "      <td>0700099867</td>\n",
       "      <td>73.0</td>\n",
       "      <td>21</td>\n",
       "      <td>3058.0</td>\n",
       "      <td>3.476190</td>\n",
       "      <td>1.0</td>\n",
       "    </tr>\n",
       "    <tr>\n",
       "      <th>3</th>\n",
       "      <td>0700099867</td>\n",
       "      <td>73.0</td>\n",
       "      <td>21</td>\n",
       "      <td>3058.0</td>\n",
       "      <td>3.476190</td>\n",
       "      <td>3.0</td>\n",
       "    </tr>\n",
       "    <tr>\n",
       "      <th>4</th>\n",
       "      <td>0700099867</td>\n",
       "      <td>73.0</td>\n",
       "      <td>21</td>\n",
       "      <td>3058.0</td>\n",
       "      <td>3.476190</td>\n",
       "      <td>5.0</td>\n",
       "    </tr>\n",
       "  </tbody>\n",
       "</table>\n",
       "</div>"
      ],
      "text/plain": [
       "    productID  sum_rating  score    rank  avg_rating  actual_rating\n",
       "0  0700026657        43.0     12  5198.0    3.583333            5.0\n",
       "1  0700099867        73.0     21  3058.0    3.476190            1.0\n",
       "2  0700099867        73.0     21  3058.0    3.476190            1.0\n",
       "3  0700099867        73.0     21  3058.0    3.476190            3.0\n",
       "4  0700099867        73.0     21  3058.0    3.476190            5.0"
      ]
     },
     "execution_count": 34,
     "metadata": {},
     "output_type": "execute_result"
    }
   ],
   "source": [
    "# Merge the train data that contains average rating \n",
    "# WITH the test data that contains the actual rating for each product\n",
    "\n",
    "test_data_inner = pd.merge(train_data_inner, test_data_copy)\n",
    "test_data_inner.head()"
   ]
  },
  {
   "cell_type": "code",
   "execution_count": 35,
   "id": "a2f6d5f7-4ce2-4dfd-a30f-9a05f2bb77e8",
   "metadata": {
    "tags": []
   },
   "outputs": [
    {
     "name": "stdout",
     "output_type": "stream",
     "text": [
      "RMSE for popularity based recommendation system: 1.1241164200900815\n"
     ]
    }
   ],
   "source": [
    "# RMSE for this popularity based recommender system is ~1.12\n",
    "mse = mean_squared_error(test_data_inner[\"actual_rating\"], test_data_inner[\"avg_rating\"])\n",
    "rmse = math.sqrt(mse)\n",
    "print(\"RMSE for popularity based recommendation system:\", rmse)"
   ]
  },
  {
   "cell_type": "markdown",
   "id": "4687b5e0-928c-4d7a-aa00-823f0f1875dc",
   "metadata": {},
   "source": [
    "Since a popularity based model is independent of user's preferences, all users will be recommended the same recommendations"
   ]
  }
 ],
 "metadata": {
  "kernelspec": {
   "display_name": "Python 3 (ipykernel)",
   "language": "python",
   "name": "python3"
  },
  "language_info": {
   "codemirror_mode": {
    "name": "ipython",
    "version": 3
   },
   "file_extension": ".py",
   "mimetype": "text/x-python",
   "name": "python",
   "nbconvert_exporter": "python",
   "pygments_lexer": "ipython3",
   "version": "3.11.5"
  }
 },
 "nbformat": 4,
 "nbformat_minor": 5
}
